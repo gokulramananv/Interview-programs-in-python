{
 "cells": [
  {
   "cell_type": "markdown",
   "metadata": {},
   "source": [
    "# Find the missing number in a array"
   ]
  },
  {
   "cell_type": "markdown",
   "metadata": {},
   "source": [
    "* To find the missing number we are using the formula n*n+1/2\n",
    "* Here we are using (n+1)*(n+2)/2 because we are missing a term so we are         adding +1 to the formula\n",
    "* subtracting the total we found using the formula and sum of the array gives     the missing number"
   ]
  },
  {
   "cell_type": "code",
   "execution_count": 1,
   "metadata": {},
   "outputs": [],
   "source": [
    "def missingNo(A): \n",
    "    n = len(A) \n",
    "    tot_sum = (n + 1)*(n + 2)//2\n",
    "    sum\n",
    "    sum_of_array = sum(A)\n",
    "    missing_no = tot_sum - sum_of_array\n",
    "    return missing_no"
   ]
  },
  {
   "cell_type": "code",
   "execution_count": 2,
   "metadata": {},
   "outputs": [
    {
     "data": {
      "text/plain": [
       "10"
      ]
     },
     "execution_count": 2,
     "metadata": {},
     "output_type": "execute_result"
    }
   ],
   "source": [
    "A = [1,2,3, 4, 5, 6,7,8,9,11,12] \n",
    "missingNo(A)"
   ]
  }
 ],
 "metadata": {
  "kernelspec": {
   "display_name": "Python 3",
   "language": "python",
   "name": "python3"
  },
  "language_info": {
   "codemirror_mode": {
    "name": "ipython",
    "version": 3
   },
   "file_extension": ".py",
   "mimetype": "text/x-python",
   "name": "python",
   "nbconvert_exporter": "python",
   "pygments_lexer": "ipython3",
   "version": "3.6.5"
  }
 },
 "nbformat": 4,
 "nbformat_minor": 2
}
